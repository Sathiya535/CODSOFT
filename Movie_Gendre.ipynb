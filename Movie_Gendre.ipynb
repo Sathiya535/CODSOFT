{
  "nbformat": 4,
  "nbformat_minor": 0,
  "metadata": {
    "colab": {
      "provenance": []
    },
    "kernelspec": {
      "name": "python3",
      "display_name": "Python 3"
    },
    "language_info": {
      "name": "python"
    }
  },
  "cells": [
    {
      "cell_type": "code",
      "execution_count": null,
      "metadata": {
        "id": "gdVdJwFbqEAX"
      },
      "outputs": [],
      "source": [
        "import pandas as pd\n",
        "import numpy as np\n",
        "from sklearn.feature_extraction.text import TfidfVectorizer\n",
        "from sklearn.multioutput import MultiOutputClassifier\n",
        "from sklearn.naive_bayes import MultinomialNB\n",
        "from sklearn.preprocessing import MultiLabelBinarizer\n",
        "from sklearn.metrics import accuracy_score,precision_score,recall_score,f1_score\n",
        "from tqdm import tqdm"
      ]
    },
    {
      "cell_type": "code",
      "source": [
        "genre_list=['action','adult','adventure','animation','biogrraphy','comedy','crime','documentary','family','fantasy','game-show','history','horror','music','musical','mystery','news','reality-tv','romance','sci-fi','short','sport','talk-show','thriller','war','western']"
      ],
      "metadata": {
        "id": "VjMFZwcTrhws"
      },
      "execution_count": null,
      "outputs": []
    },
    {
      "cell_type": "code",
      "source": [
        "fallback_genre='Unknown'"
      ],
      "metadata": {
        "id": "qyYIbUhurqDh"
      },
      "execution_count": null,
      "outputs": []
    },
    {
      "cell_type": "code",
      "source": [
        "try:\n",
        "  with tqdm(total=50,desc=\"Loding Train Data\") as pbar:\n",
        "    train_data=pd.read_csv('train_data.txt',sep=':::',header=None,names=['SerialNumber','MOVIE_NAME','GENRE','MOVIE_PLOT'],engine='python')\n",
        "    pbar.update(50)\n",
        "except Exception as e:\n",
        "  print(f\"ERROR loading train_data: {e}\")\n",
        "  raise\n"
      ],
      "metadata": {
        "colab": {
          "base_uri": "https://localhost:8080/"
        },
        "id": "gdOt_fqtrvUD",
        "outputId": "69df67b6-cc7c-4c37-aaa4-36ff99ccb13c"
      },
      "execution_count": null,
      "outputs": [
        {
          "output_type": "stream",
          "name": "stderr",
          "text": [
            "Loding Train Data: 100%|██████████| 50/50 [00:00<00:00, 92.01it/s]\n"
          ]
        }
      ]
    },
    {
      "cell_type": "code",
      "source": [
        "X_train=train_data['MOVIE_PLOT'].astype(str).apply(lambda doc:doc.lower())\n",
        "genre_labels=[genre.split(',') for genre in train_data['GENRE']]\n",
        "mlb=MultiLabelBinarizer()\n",
        "y_train=mlb.fit_transform(genre_labels)"
      ],
      "metadata": {
        "id": "Rnzwf3Kpr1XT"
      },
      "execution_count": null,
      "outputs": []
    },
    {
      "cell_type": "code",
      "source": [
        "tfidf_vectorizer=TfidfVectorizer(max_features=5000)"
      ],
      "metadata": {
        "id": "zhttKfSEr4wK"
      },
      "execution_count": null,
      "outputs": []
    },
    {
      "cell_type": "code",
      "source": [
        "with tqdm(total=50,desc=\"Vectorizing Training Data\") as pbar:\n",
        "  X_train_tfidf=tfidf_vectorizer.fit_transform(X_train)\n",
        "  pbar.update(50)\n"
      ],
      "metadata": {
        "colab": {
          "base_uri": "https://localhost:8080/"
        },
        "id": "HNZ0WWzKsCRX",
        "outputId": "379c7b56-fe7d-4208-c7d5-7190ca67c09d"
      },
      "execution_count": null,
      "outputs": [
        {
          "output_type": "stream",
          "name": "stderr",
          "text": [
            "Vectorizing Training Data: 100%|██████████| 50/50 [00:05<00:00,  9.32it/s]\n"
          ]
        }
      ]
    },
    {
      "cell_type": "code",
      "source": [
        "with  tqdm(total=50,desc=\"Training Model\") as pbar:\n",
        "  naive_bayes=MultinomialNB()\n",
        "  naive_bayes_classifier=MultiOutputClassifier(naive_bayes)\n",
        "  naive_bayes_classifier.fit(X_train_tfidf,y_train)\n",
        "  pbar.update(50)"
      ],
      "metadata": {
        "colab": {
          "base_uri": "https://localhost:8080/"
        },
        "id": "-I8lsd6uuKF3",
        "outputId": "c511a570-a649-4990-cf6a-9633bda36a5d"
      },
      "execution_count": null,
      "outputs": [
        {
          "output_type": "stream",
          "name": "stderr",
          "text": [
            "Training Model: 100%|██████████| 50/50 [00:03<00:00, 16.02it/s]\n"
          ]
        }
      ]
    },
    {
      "cell_type": "code",
      "source": [
        "try:\n",
        "  with tqdm(total=50,desc=\"Loding Test Data\") as pbar:\n",
        "    test_data=pd.read_csv('test_data.txt',sep=':::',header=None,names=['SerialNumber','MOVIE_NAME','GENRE','MOVIE_PLOT'],engine='python')\n",
        "    pbar.update(50)\n",
        "except Exception as e:\n",
        "  print(f\"ERROR loading test_data: {e}\")\n",
        "  raise"
      ],
      "metadata": {
        "colab": {
          "base_uri": "https://localhost:8080/"
        },
        "id": "0OAOrc_PsYdW",
        "outputId": "a17744c6-41b5-44a1-b65c-772cf8477184"
      },
      "execution_count": null,
      "outputs": [
        {
          "output_type": "stream",
          "name": "stderr",
          "text": [
            "Loding Test Data: 100%|██████████| 50/50 [00:00<00:00, 67.62it/s]\n"
          ]
        }
      ]
    },
    {
      "cell_type": "code",
      "source": [
        "X_test=test_data['MOVIE_PLOT'].astype(str).apply(lambda doc:doc.lower())"
      ],
      "metadata": {
        "id": "g5H4F6BSskEs"
      },
      "execution_count": null,
      "outputs": []
    },
    {
      "cell_type": "code",
      "source": [
        "with tqdm(total=50,desc=\"Vectorizing Test Data\") as pbar:\n",
        "  X_test_tfidf=tfidf_vectorizer.transform(X_test)\n",
        "  pbar.update(50)"
      ],
      "metadata": {
        "colab": {
          "base_uri": "https://localhost:8080/"
        },
        "id": "Z3e0vGKksoqc",
        "outputId": "a0a276dd-3652-4832-c649-ccfc5f50b4f3"
      },
      "execution_count": null,
      "outputs": [
        {
          "output_type": "stream",
          "name": "stderr",
          "text": [
            "Vectorizing Test Data: 100%|██████████| 50/50 [00:00<00:00, 283.74it/s]\n"
          ]
        }
      ]
    },
    {
      "cell_type": "code",
      "source": [
        "with tqdm(total=50,desc=\"Predicting Test Data\") as pbar:\n",
        "  y_pred=naive_bayes_classifier.predict(X_test_tfidf)\n",
        "  pbar.update(50)"
      ],
      "metadata": {
        "colab": {
          "base_uri": "https://localhost:8080/"
        },
        "id": "58bfNg6Vt4FQ",
        "outputId": "4d5af5e6-f514-4c00-ff6f-044a334ccd7d"
      },
      "execution_count": null,
      "outputs": [
        {
          "output_type": "stream",
          "name": "stderr",
          "text": [
            "Predicting Test Data: 100%|██████████| 50/50 [00:00<00:00, 232.08it/s]\n"
          ]
        }
      ]
    },
    {
      "cell_type": "code",
      "source": [
        "test_movie_names=test_data['MOVIE_NAME']\n",
        "predicted_genres=mlb.inverse_transform(y_pred)\n",
        "test_results=pd.DataFrame({'MOVIE_NAME':test_movie_names,'PREDICTED_GENRE':predicted_genres})\n"
      ],
      "metadata": {
        "id": "NVh175Krswav"
      },
      "execution_count": null,
      "outputs": []
    },
    {
      "cell_type": "code",
      "source": [
        "test_results['PREDICTED_GENRE']=test_results['PREDICTED_GENRE'].apply(lambda genres:[fallback_genre] if len(genres)==0 else genres)"
      ],
      "metadata": {
        "id": "t4nswKHQs0b0"
      },
      "execution_count": null,
      "outputs": []
    },
    {
      "cell_type": "code",
      "source": [
        "with open(\"model_evalution.txt\", \"w\",encoding=\"utf-8\") as output_file :\n",
        "    for _, row in test_results.iterrows():\n",
        "      movie_name=row['MOVIE_NAME']\n",
        "      predicted_genres=row['PREDICTED_GENRE']\n",
        "      genre_str=','.join(predicted_genres)\n",
        "      output_file.write(f\"{movie_name}:::{genre_str}\\n\")"
      ],
      "metadata": {
        "id": "5eflySdLs3Vj"
      },
      "execution_count": null,
      "outputs": []
    },
    {
      "cell_type": "code",
      "source": [
        "y_train_pred=naive_bayes_classifier.predict(X_train_tfidf)"
      ],
      "metadata": {
        "id": "4X-kTTszs6M2"
      },
      "execution_count": null,
      "outputs": []
    },
    {
      "cell_type": "code",
      "source": [
        "accuracy=accuracy_score(y_train,y_train_pred)\n",
        "precision=precision_score(y_train,y_train_pred,average='macro')\n",
        "recall=recall_score(y_train,y_train_pred,average='macro')\n",
        "f1=f1_score(y_train,y_train_pred,average='macro')"
      ],
      "metadata": {
        "colab": {
          "base_uri": "https://localhost:8080/"
        },
        "id": "QpY2uqGOs-Wt",
        "outputId": "b41330dc-cb7c-422b-bab4-acf76c900a0c"
      },
      "execution_count": null,
      "outputs": [
        {
          "output_type": "stream",
          "name": "stderr",
          "text": [
            "/usr/local/lib/python3.10/dist-packages/sklearn/metrics/_classification.py:1344: UndefinedMetricWarning: Precision is ill-defined and being set to 0.0 in labels with no predicted samples. Use `zero_division` parameter to control this behavior.\n",
            "  _warn_prf(average, modifier, msg_start, len(result))\n"
          ]
        }
      ]
    },
    {
      "cell_type": "code",
      "source": [
        "with open(\"model_evaluation.txt\",\"a\",encoding=\"utf-8\") as output_file:\n",
        "  output_file.write(\"\\n\\n model evaluation metrices:\\n\")\n",
        "  output_file.write(f\"accuracy: {accuracy * 100:.2f}%\\n\")\n",
        "  output_file.write(f\"precision: {precision:.2f}\\n\")\n",
        "  output_file.write(f\"recall: {recall:.2f}\\n\")\n",
        "  output_file.write(f\"f1: {f1:.2f}\\n\")"
      ],
      "metadata": {
        "id": "qJgak9VXtBHK"
      },
      "execution_count": null,
      "outputs": []
    },
    {
      "cell_type": "code",
      "source": [
        "print(\"model evaluation results and metrices have been saved to 'model_evaluation.txt' .\")"
      ],
      "metadata": {
        "colab": {
          "base_uri": "https://localhost:8080/"
        },
        "id": "vutLeBmJvcRN",
        "outputId": "c6651c05-b707-4070-ce89-b9f98266034c"
      },
      "execution_count": null,
      "outputs": [
        {
          "output_type": "stream",
          "name": "stdout",
          "text": [
            "model evaluation results and metrices have been saved to 'model_evaluation.txt' .\n"
          ]
        }
      ]
    }
  ]
}