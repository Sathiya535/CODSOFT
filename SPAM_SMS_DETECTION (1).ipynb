{
  "nbformat": 4,
  "nbformat_minor": 0,
  "metadata": {
    "colab": {
      "provenance": []
    },
    "kernelspec": {
      "name": "python3",
      "display_name": "Python 3"
    },
    "language_info": {
      "name": "python"
    }
  },
  "cells": [
    {
      "cell_type": "code",
      "execution_count": null,
      "metadata": {
        "id": "NuQlBwNW3JMk"
      },
      "outputs": [],
      "source": [
        "##TAsk-2 SPAM SMS DETECTION"
      ]
    },
    {
      "cell_type": "code",
      "source": [
        "import pandas as pd\n",
        "import numpy as np\n",
        "from sklearn.model_selection import train_test_split\n",
        "from sklearn.feature_extraction.text import TfidfVectorizer\n",
        "from sklearn.naive_bayes import MultinomialNB\n",
        "from sklearn.metrics import accuracy_score, classification_report\n",
        "from tqdm import tqdm"
      ],
      "metadata": {
        "id": "oYyXykV04d0R"
      },
      "execution_count": 1,
      "outputs": []
    },
    {
      "cell_type": "code",
      "source": [
        "data=pd.read_csv('spam.csv',encoding='latin-1')"
      ],
      "metadata": {
        "id": "DoinH-LM4iya"
      },
      "execution_count": 2,
      "outputs": []
    },
    {
      "cell_type": "code",
      "source": [
        "data.drop_duplicates(inplace=True)\n",
        "data['label']=data['v1'].map({'ham':'ham','spam':'sapm'})\n",
        "x=data['v2']\n",
        "y=data['label']"
      ],
      "metadata": {
        "id": "E3SP3COs4pS-"
      },
      "execution_count": 3,
      "outputs": []
    },
    {
      "cell_type": "code",
      "source": [
        "X_train,X_test,y_train,y_test=train_test_split(x,y,test_size=0.2,random_state=42)"
      ],
      "metadata": {
        "id": "UPwNIUQo4uuj"
      },
      "execution_count": 4,
      "outputs": []
    },
    {
      "cell_type": "code",
      "source": [
        "tfidy_vectorizer=TfidfVectorizer()\n",
        "X_train_tfidy=tfidy_vectorizer.fit_transform(X_train)\n",
        "classifier=MultinomialNB()\n",
        "classifier.fit(X_train_tfidy,y_train)\n",
        "X_test_tfidy=tfidy_vectorizer.transform(X_test)"
      ],
      "metadata": {
        "id": "ZSC-09Mf4xfe"
      },
      "execution_count": 5,
      "outputs": []
    },
    {
      "cell_type": "code",
      "source": [
        "y_pred=classifier.predict(X_test_tfidy)"
      ],
      "metadata": {
        "id": "4Txneg0X41ee"
      },
      "execution_count": 6,
      "outputs": []
    },
    {
      "cell_type": "code",
      "source": [
        "X_test_tfidy=tfidy_vectorizer.transform(X_test)\n",
        "y_pred=classifier.predict(X_test_tfidy)"
      ],
      "metadata": {
        "id": "BePedZKr45DZ"
      },
      "execution_count": 7,
      "outputs": []
    },
    {
      "cell_type": "code",
      "source": [
        "accuracy=accuracy_score(y_test,y_pred)"
      ],
      "metadata": {
        "id": "YZIiiCX347dw"
      },
      "execution_count": 8,
      "outputs": []
    },
    {
      "cell_type": "code",
      "source": [
        "report=classification_report(y_test,y_pred,target_names=['Legitime SMS','Spam SMS'])"
      ],
      "metadata": {
        "id": "b75XOk794_m1"
      },
      "execution_count": 9,
      "outputs": []
    },
    {
      "cell_type": "code",
      "source": [
        "progress_bar=tqdm(total=100,position=0,leave=True)\n",
        "for i in range(10,101,10):\n",
        "    progress_bar.update(10)\n",
        "    progress_bar.set_description(f\"Progress: {i}%\")"
      ],
      "metadata": {
        "colab": {
          "base_uri": "https://localhost:8080/"
        },
        "id": "F2UPGcq45BxC",
        "outputId": "5f0fe100-9b9a-49a7-9be5-681124bb6716"
      },
      "execution_count": 10,
      "outputs": [
        {
          "output_type": "stream",
          "name": "stderr",
          "text": [
            "Progress: 100%: 100%|██████████| 100/100 [00:00<00:00, 2553.10it/s]"
          ]
        }
      ]
    },
    {
      "cell_type": "code",
      "source": [
        "progress_bar.close()"
      ],
      "metadata": {
        "colab": {
          "base_uri": "https://localhost:8080/"
        },
        "id": "mqe6ijLe5EjR",
        "outputId": "a2fed8c0-a6bd-4dfa-e978-58365e2eede9"
      },
      "execution_count": 11,
      "outputs": [
        {
          "output_type": "stream",
          "name": "stderr",
          "text": [
            "\rProgress: 100%: 100%|██████████| 100/100 [00:11<00:00,  8.90it/s]  \n"
          ]
        }
      ]
    },
    {
      "cell_type": "code",
      "source": [
        "print(f'Accuracy: {accuracy:.2f}')\n",
        "print('Classification Report:')\n",
        "print(report)"
      ],
      "metadata": {
        "colab": {
          "base_uri": "https://localhost:8080/"
        },
        "id": "vg4XSAcJ5Ha4",
        "outputId": "5e4aeeee-9cb7-4774-85bd-a36b0d697941"
      },
      "execution_count": 12,
      "outputs": [
        {
          "output_type": "stream",
          "name": "stdout",
          "text": [
            "Accuracy: 0.96\n",
            "Classification Report:\n",
            "              precision    recall  f1-score   support\n",
            "\n",
            "Legitime SMS       0.95      1.00      0.97       889\n",
            "    Spam SMS       1.00      0.68      0.81       145\n",
            "\n",
            "    accuracy                           0.96      1034\n",
            "   macro avg       0.98      0.84      0.89      1034\n",
            "weighted avg       0.96      0.96      0.95      1034\n",
            "\n"
          ]
        }
      ]
    },
    {
      "cell_type": "markdown",
      "source": [],
      "metadata": {
        "id": "KU2R8lcq33qQ"
      }
    }
  ]
}